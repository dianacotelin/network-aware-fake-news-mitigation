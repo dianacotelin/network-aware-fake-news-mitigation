{
  "cells": [
    {
      "cell_type": "markdown",
      "metadata": {
        "id": "15qxvRGHeoaq"
      },
      "source": [
        "# Files"
      ]
    },
    {
      "cell_type": "code",
      "execution_count": null,
      "metadata": {
        "colab": {
          "base_uri": "https://localhost:8080/"
        },
        "id": "YaEnE6Exe-Ij",
        "outputId": "77624d37-5354-4a6e-dd0d-b29b8b608a05"
      },
      "outputs": [
        {
          "output_type": "stream",
          "name": "stdout",
          "text": [
            "Requirement already satisfied: tqdm in /usr/local/lib/python3.10/dist-packages (4.66.4)\n",
            "Collecting node2vec\n",
            "  Downloading node2vec-0.4.6-py3-none-any.whl (7.0 kB)\n",
            "Requirement already satisfied: gensim<5.0.0,>=4.1.2 in /usr/local/lib/python3.10/dist-packages (from node2vec) (4.3.2)\n",
            "Requirement already satisfied: joblib<2.0.0,>=1.1.0 in /usr/local/lib/python3.10/dist-packages (from node2vec) (1.4.2)\n",
            "Collecting networkx<3.0,>=2.5 (from node2vec)\n",
            "  Downloading networkx-2.8.8-py3-none-any.whl (2.0 MB)\n",
            "\u001b[2K     \u001b[90m━━━━━━━━━━━━━━━━━━━━━━━━━━━━━━━━━━━━━━━━\u001b[0m \u001b[32m2.0/2.0 MB\u001b[0m \u001b[31m33.4 MB/s\u001b[0m eta \u001b[36m0:00:00\u001b[0m\n",
            "\u001b[?25hRequirement already satisfied: numpy<2.0.0,>=1.19.5 in /usr/local/lib/python3.10/dist-packages (from node2vec) (1.25.2)\n",
            "Requirement already satisfied: tqdm<5.0.0,>=4.55.1 in /usr/local/lib/python3.10/dist-packages (from node2vec) (4.66.4)\n",
            "Requirement already satisfied: scipy>=1.7.0 in /usr/local/lib/python3.10/dist-packages (from gensim<5.0.0,>=4.1.2->node2vec) (1.11.4)\n",
            "Requirement already satisfied: smart-open>=1.8.1 in /usr/local/lib/python3.10/dist-packages (from gensim<5.0.0,>=4.1.2->node2vec) (7.0.4)\n",
            "Requirement already satisfied: wrapt in /usr/local/lib/python3.10/dist-packages (from smart-open>=1.8.1->gensim<5.0.0,>=4.1.2->node2vec) (1.14.1)\n",
            "Installing collected packages: networkx, node2vec\n",
            "  Attempting uninstall: networkx\n",
            "    Found existing installation: networkx 3.3\n",
            "    Uninstalling networkx-3.3:\n",
            "      Successfully uninstalled networkx-3.3\n",
            "\u001b[31mERROR: pip's dependency resolver does not currently take into account all the packages that are installed. This behaviour is the source of the following dependency conflicts.\n",
            "torch 2.3.0+cu121 requires nvidia-cublas-cu12==12.1.3.1; platform_system == \"Linux\" and platform_machine == \"x86_64\", which is not installed.\n",
            "torch 2.3.0+cu121 requires nvidia-cuda-cupti-cu12==12.1.105; platform_system == \"Linux\" and platform_machine == \"x86_64\", which is not installed.\n",
            "torch 2.3.0+cu121 requires nvidia-cuda-nvrtc-cu12==12.1.105; platform_system == \"Linux\" and platform_machine == \"x86_64\", which is not installed.\n",
            "torch 2.3.0+cu121 requires nvidia-cuda-runtime-cu12==12.1.105; platform_system == \"Linux\" and platform_machine == \"x86_64\", which is not installed.\n",
            "torch 2.3.0+cu121 requires nvidia-cudnn-cu12==8.9.2.26; platform_system == \"Linux\" and platform_machine == \"x86_64\", which is not installed.\n",
            "torch 2.3.0+cu121 requires nvidia-cufft-cu12==11.0.2.54; platform_system == \"Linux\" and platform_machine == \"x86_64\", which is not installed.\n",
            "torch 2.3.0+cu121 requires nvidia-curand-cu12==10.3.2.106; platform_system == \"Linux\" and platform_machine == \"x86_64\", which is not installed.\n",
            "torch 2.3.0+cu121 requires nvidia-cusolver-cu12==11.4.5.107; platform_system == \"Linux\" and platform_machine == \"x86_64\", which is not installed.\n",
            "torch 2.3.0+cu121 requires nvidia-cusparse-cu12==12.1.0.106; platform_system == \"Linux\" and platform_machine == \"x86_64\", which is not installed.\n",
            "torch 2.3.0+cu121 requires nvidia-nccl-cu12==2.20.5; platform_system == \"Linux\" and platform_machine == \"x86_64\", which is not installed.\n",
            "torch 2.3.0+cu121 requires nvidia-nvtx-cu12==12.1.105; platform_system == \"Linux\" and platform_machine == \"x86_64\", which is not installed.\u001b[0m\u001b[31m\n",
            "\u001b[0mSuccessfully installed networkx-2.8.8 node2vec-0.4.6\n",
            "Collecting demoji\n",
            "  Downloading demoji-1.1.0-py3-none-any.whl (42 kB)\n",
            "\u001b[2K     \u001b[90m━━━━━━━━━━━━━━━━━━━━━━━━━━━━━━━━━━━━━━━━\u001b[0m \u001b[32m42.9/42.9 kB\u001b[0m \u001b[31m2.1 MB/s\u001b[0m eta \u001b[36m0:00:00\u001b[0m\n",
            "\u001b[?25hInstalling collected packages: demoji\n",
            "Successfully installed demoji-1.1.0\n",
            "--2024-06-16 23:35:52--  https://raw.githubusercontent.com/dianacotelin/fakenews/main/drive-download-20240527T175238Z-001/twitter15_tree_data.csv\n",
            "Resolving raw.githubusercontent.com (raw.githubusercontent.com)... 185.199.108.133, 185.199.109.133, 185.199.110.133, ...\n",
            "Connecting to raw.githubusercontent.com (raw.githubusercontent.com)|185.199.108.133|:443... connected.\n",
            "HTTP request sent, awaiting response... 200 OK\n",
            "Length: 41267063 (39M) [text/plain]\n",
            "Saving to: ‘twitter15_tree_data.csv’\n",
            "\n",
            "twitter15_tree_data 100%[===================>]  39.35M  --.-KB/s    in 0.08s   \n",
            "\n",
            "2024-06-16 23:35:56 (495 MB/s) - ‘twitter15_tree_data.csv’ saved [41267063/41267063]\n",
            "\n",
            "--2024-06-16 23:35:56--  https://raw.githubusercontent.com/dianacotelin/fakenews/main/drive-download-20240527T175238Z-001/twitter15_label_data.csv\n",
            "Resolving raw.githubusercontent.com (raw.githubusercontent.com)... 185.199.108.133, 185.199.109.133, 185.199.110.133, ...\n",
            "Connecting to raw.githubusercontent.com (raw.githubusercontent.com)|185.199.108.133|:443... connected.\n",
            "HTTP request sent, awaiting response... 200 OK\n",
            "Length: 40263 (39K) [text/plain]\n",
            "Saving to: ‘twitter15_label_data.csv’\n",
            "\n",
            "twitter15_label_dat 100%[===================>]  39.32K  --.-KB/s    in 0.002s  \n",
            "\n",
            "2024-06-16 23:35:56 (21.2 MB/s) - ‘twitter15_label_data.csv’ saved [40263/40263]\n",
            "\n",
            "--2024-06-16 23:35:56--  https://raw.githubusercontent.com/dianacotelin/fakenews/main/drive-download-20240527T175238Z-001/twitter15_source_tweet_data.csv\n",
            "Resolving raw.githubusercontent.com (raw.githubusercontent.com)... 185.199.108.133, 185.199.109.133, 185.199.110.133, ...\n",
            "Connecting to raw.githubusercontent.com (raw.githubusercontent.com)|185.199.108.133|:443... connected.\n",
            "HTTP request sent, awaiting response... 200 OK\n",
            "Length: 170299 (166K) [text/plain]\n",
            "Saving to: ‘twitter15_source_tweet_data.csv’\n",
            "\n",
            "twitter15_source_tw 100%[===================>] 166.31K  --.-KB/s    in 0.003s  \n",
            "\n",
            "2024-06-16 23:35:56 (52.5 MB/s) - ‘twitter15_source_tweet_data.csv’ saved [170299/170299]\n",
            "\n",
            "--2024-06-16 23:35:56--  https://raw.githubusercontent.com/dianacotelin/fakenews/main/drive-download-20240527T175238Z-001/twitter15_vectors.npy\n",
            "Resolving raw.githubusercontent.com (raw.githubusercontent.com)... 185.199.108.133, 185.199.109.133, 185.199.110.133, ...\n",
            "Connecting to raw.githubusercontent.com (raw.githubusercontent.com)|185.199.108.133|:443... connected.\n",
            "HTTP request sent, awaiting response... 200 OK\n",
            "Length: 4577408 (4.4M) [application/octet-stream]\n",
            "Saving to: ‘twitter15_vectors.npy’\n",
            "\n",
            "twitter15_vectors.n 100%[===================>]   4.37M  --.-KB/s    in 0.02s   \n",
            "\n",
            "2024-06-16 23:35:57 (257 MB/s) - ‘twitter15_vectors.npy’ saved [4577408/4577408]\n",
            "\n",
            "--2024-06-16 23:35:57--  https://raw.githubusercontent.com/dianacotelin/fakenews/main/drive-download-20240527T175238Z-001/twitter15_graph.graphml\n",
            "Resolving raw.githubusercontent.com (raw.githubusercontent.com)... 185.199.108.133, 185.199.109.133, 185.199.110.133, ...\n",
            "Connecting to raw.githubusercontent.com (raw.githubusercontent.com)|185.199.108.133|:443... connected.\n",
            "HTTP request sent, awaiting response... 404 Not Found\n",
            "2024-06-16 23:35:58 ERROR 404: Not Found.\n",
            "\n",
            "--2024-06-16 23:35:58--  https://raw.githubusercontent.com/dianacotelin/fakenews/main/drive-download-20240527T175238Z-001/embeddings.pickle\n",
            "Resolving raw.githubusercontent.com (raw.githubusercontent.com)... 185.199.111.133, 185.199.110.133, 185.199.108.133, ...\n",
            "Connecting to raw.githubusercontent.com (raw.githubusercontent.com)|185.199.111.133|:443... connected.\n",
            "HTTP request sent, awaiting response... 200 OK\n",
            "Length: 2872659 (2.7M) [application/octet-stream]\n",
            "Saving to: ‘embeddings.pickle’\n",
            "\n",
            "embeddings.pickle   100%[===================>]   2.74M  --.-KB/s    in 0.01s   \n",
            "\n",
            "2024-06-16 23:35:59 (236 MB/s) - ‘embeddings.pickle’ saved [2872659/2872659]\n",
            "\n"
          ]
        }
      ],
      "source": [
        "!pip install tqdm\n",
        "!pip install node2vec\n",
        "!pip install demoji\n",
        "\n",
        "!wget https://raw.githubusercontent.com/dianacotelin/fakenews/main/drive-download-20240527T175238Z-001/twitter15_tree_data.csv\n",
        "!wget https://raw.githubusercontent.com/dianacotelin/fakenews/main/drive-download-20240527T175238Z-001/twitter15_label_data.csv\n",
        "!wget https://raw.githubusercontent.com/dianacotelin/fakenews/main/drive-download-20240527T175238Z-001/twitter15_source_tweet_data.csv\n",
        "!wget https://raw.githubusercontent.com/dianacotelin/fakenews/main/drive-download-20240527T175238Z-001/twitter15_vectors.npy\n",
        "!wget https://raw.githubusercontent.com/dianacotelin/fakenews/main/drive-download-20240527T175238Z-001/twitter15_graph.graphml\n",
        "!wget https://raw.githubusercontent.com/dianacotelin/fakenews/main/drive-download-20240527T175238Z-001/embeddings.pickle"
      ]
    },
    {
      "cell_type": "code",
      "execution_count": null,
      "metadata": {
        "id": "uhV2GUmabeEp"
      },
      "outputs": [],
      "source": [
        "import pandas as pd\n",
        "\n",
        "# Read data from CSV files\n",
        "twitter15_tree_df = pd.read_csv('./twitter15_tree_data.csv')\n",
        "twitter15_label_df = pd.read_csv('./twitter15_label_data.csv')\n",
        "twitter15_source_tweet_df = pd.read_csv('./twitter15_source_tweet_data.csv')\n"
      ]
    },
    {
      "cell_type": "code",
      "execution_count": null,
      "metadata": {
        "colab": {
          "base_uri": "https://localhost:8080/"
        },
        "id": "v9WxIc3wQUyy",
        "outputId": "e7890feb-0014-4a7e-8e5f-ee053b9fd36f"
      },
      "outputs": [
        {
          "output_type": "execute_result",
          "data": {
            "text/plain": [
              "0       🔥ca kkk grand wizard 🔥 endorses @hillaryclinto...\n",
              "1       an open letter to trump voters from his top st...\n",
              "2       \"america is a nation of second chances\" —@potu...\n",
              "3       brandon marshall visits and offers advice, sup...\n",
              "4       rip elly may clampett: so sad to learn #beverl...\n",
              "                              ...                        \n",
              "1485    .@potus just announced new reforms to address ...\n",
              "1486                      “after school satan clubs”? URL\n",
              "1487    breaking news: according to documents released...\n",
              "1488                     ebola vaccines? URL #news #today\n",
              "1489    concerned airport passenger suits up in homema...\n",
              "Name: content, Length: 1490, dtype: object"
            ]
          },
          "metadata": {},
          "execution_count": 3
        }
      ],
      "source": [
        "twitter15_source_tweet_df['content']"
      ]
    },
    {
      "cell_type": "markdown",
      "metadata": {
        "id": "-5JvNySDe_h2"
      },
      "source": [
        "Clean Dataset"
      ]
    },
    {
      "cell_type": "code",
      "execution_count": null,
      "metadata": {
        "colab": {
          "base_uri": "https://localhost:8080/"
        },
        "id": "bKld6qeCzocn",
        "outputId": "41292a80-fc83-4cd8-d432-6e11bf2dd9b4"
      },
      "outputs": [
        {
          "output_type": "stream",
          "name": "stdout",
          "text": [
            "Requirement already satisfied: nltk in /usr/local/lib/python3.10/dist-packages (3.8.1)\n",
            "Requirement already satisfied: click in /usr/local/lib/python3.10/dist-packages (from nltk) (8.1.7)\n",
            "Requirement already satisfied: joblib in /usr/local/lib/python3.10/dist-packages (from nltk) (1.4.2)\n",
            "Requirement already satisfied: regex>=2021.8.3 in /usr/local/lib/python3.10/dist-packages (from nltk) (2024.5.15)\n",
            "Requirement already satisfied: tqdm in /usr/local/lib/python3.10/dist-packages (from nltk) (4.66.4)\n"
          ]
        }
      ],
      "source": [
        "!pip install nltk"
      ]
    },
    {
      "cell_type": "code",
      "execution_count": null,
      "metadata": {
        "colab": {
          "base_uri": "https://localhost:8080/"
        },
        "id": "cG_uzsWKfBMa",
        "outputId": "443d54a8-de73-47f1-a14d-5aec86014b77"
      },
      "outputs": [
        {
          "output_type": "stream",
          "name": "stderr",
          "text": [
            "[nltk_data] Downloading package stopwords to /root/nltk_data...\n",
            "[nltk_data]   Unzipping corpora/stopwords.zip.\n",
            "[nltk_data] Downloading package wordnet to /root/nltk_data...\n",
            "[nltk_data] Downloading package omw-1.4 to /root/nltk_data...\n"
          ]
        }
      ],
      "source": [
        "import pandas as pd\n",
        "import re\n",
        "import string\n",
        "import demoji\n",
        "import nltk\n",
        "from nltk.corpus import stopwords\n",
        "from nltk.stem import WordNetLemmatizer\n",
        "nltk.download('stopwords')\n",
        "nltk.download('wordnet')\n",
        "nltk.download('omw-1.4')\n",
        "\n",
        "stop_words = set(stopwords.words('english'))\n",
        "\n",
        "lemmatizer = WordNetLemmatizer()\n",
        "\n",
        "def remove_punctuation(text):\n",
        "    return re.sub(r'[^A-Za-z0-9\\s]+', '', text)\n",
        "\n",
        "def remove_url_word(text):\n",
        "    return text.replace(\"URL\", \"\")\n",
        "\n",
        "def remove_emojis(text):\n",
        "    return demoji.replace(text, '')\n",
        "\n",
        "def remove_stop_words(text):\n",
        "    words = text.split()\n",
        "    filtered_words = [word for word in words if word.lower() not in stop_words]\n",
        "    return ' '.join(filtered_words)\n",
        "\n",
        "def lemmatize_text(text):\n",
        "    words = text.split()\n",
        "    lemmatized_words = [lemmatizer.lemmatize(word) for word in words]\n",
        "    return ' '.join(lemmatized_words)\n",
        "\n",
        "def clean_text(text):\n",
        "    text = remove_url_word(text)\n",
        "    text = remove_punctuation(text)\n",
        "    text = remove_emojis(text)\n",
        "    text = remove_stop_words(text)\n",
        "    text = lemmatize_text(text)\n",
        "    return text\n",
        "\n",
        "# Apply the cleaning function to the DataFrame\n",
        "twitter15_source_tweet_df['cleaned_content'] = twitter15_source_tweet_df['content'].apply(clean_text)"
      ]
    },
    {
      "cell_type": "code",
      "execution_count": null,
      "metadata": {
        "colab": {
          "base_uri": "https://localhost:8080/"
        },
        "id": "tR87RVuqfxVH",
        "outputId": "958802d5-aa96-4f67-b0cb-e37fb9a5b77b"
      },
      "outputs": [
        {
          "output_type": "execute_result",
          "data": {
            "text/plain": [
              "0       ca kkk grand wizard endorses hillaryclinton ne...\n",
              "1       open letter trump voter top strategistturnedde...\n",
              "2       america nation second chance potus new reform ...\n",
              "3       brandon marshall visit offer advice support br...\n",
              "4       rip elly may clampett sad learn beverlyhillbil...\n",
              "                              ...                        \n",
              "1485    potus announced new reform address overuse sol...\n",
              "1486                                    school satan club\n",
              "1487    breaking news according document released pres...\n",
              "1488                             ebola vaccine news today\n",
              "1489    concerned airport passenger suit homemade hazm...\n",
              "Name: cleaned_content, Length: 1490, dtype: object"
            ]
          },
          "metadata": {},
          "execution_count": 6
        }
      ],
      "source": [
        "twitter15_source_tweet_df['cleaned_content']"
      ]
    },
    {
      "cell_type": "code",
      "source": [
        "path = \"/content/drive/MyDrive/[Licenta] Maria-Diana COTELIN - Network-aware Fake News Mitigation/pretrained/glove.6B.300d.txt\""
      ],
      "metadata": {
        "id": "5axJUJuVa-5K"
      },
      "execution_count": null,
      "outputs": []
    },
    {
      "cell_type": "code",
      "source": [
        "import numpy as np\n",
        "import torch\n",
        "from torch.utils.data import Dataset, DataLoader\n",
        "from tqdm import tqdm\n",
        "\n",
        "def load_glove_embeddings(file_path):\n",
        "    word_to_idx = {}\n",
        "    embeddings = []\n",
        "    with open(file_path, 'r', encoding='utf-8') as f:\n",
        "        for idx, line in enumerate(f):\n",
        "            values = line.split()\n",
        "            word = values[0]\n",
        "            vector = np.array(values[1:], dtype='float32')\n",
        "            word_to_idx[word] = idx\n",
        "            embeddings.append(vector)\n",
        "    return word_to_idx, np.stack(embeddings)\n",
        "\n",
        "word_to_idx, embedding_matrix = load_glove_embeddings(path)"
      ],
      "metadata": {
        "id": "3_aKKTgabS7M"
      },
      "execution_count": null,
      "outputs": []
    },
    {
      "cell_type": "code",
      "execution_count": null,
      "metadata": {
        "id": "RNwAbXKtLZDo",
        "colab": {
          "base_uri": "https://localhost:8080/"
        },
        "outputId": "3b1f03be-c7da-4cd9-b5d5-c767d212b09f"
      },
      "outputs": [
        {
          "output_type": "stream",
          "name": "stderr",
          "text": [
            "\n",
            "100%|██████████| 94/94 [00:00<00:00, 1032.29it/s]\n"
          ]
        }
      ],
      "source": [
        "import torch\n",
        "from torch.utils.data import DataLoader, Dataset\n",
        "\n",
        "\n",
        "class TwitterDataset(Dataset):\n",
        "    def __init__(self, texts, tokenizer, max_length=64):\n",
        "        self.texts = texts\n",
        "        self.word_to_idx = word_to_idx\n",
        "        self.max_length = max_length\n",
        "\n",
        "    def __len__(self):\n",
        "        return len(self.texts)\n",
        "\n",
        "    def __getitem__(self, idx):\n",
        "        text = self.texts[idx]\n",
        "        encoded_text = np.zeros((self.max_length, 300), dtype=np.float32)\n",
        "        words = text.split()[:self.max_length]\n",
        "        for i, word in enumerate(words):\n",
        "            if word in self.word_to_idx:\n",
        "                encoded_text[i] = embedding_matrix[self.word_to_idx[word]]\n",
        "\n",
        "        return torch.tensor(encoded_text)\n",
        "\n",
        "texts = list(twitter15_source_tweet_df['content'])\n",
        "dataset = TwitterDataset(texts, word_to_idx)\n",
        "batch_size = 16\n",
        "dataloader = DataLoader(dataset, batch_size=batch_size, shuffle=False)\n",
        "\n",
        "# Example processing loop\n",
        "model_outputs = []\n",
        "for batch in tqdm(dataloader):\n",
        "\n",
        "    model_outputs.append(batch)\n",
        "\n",
        "all_outputs = torch.cat(model_outputs, dim=0)\n"
      ]
    },
    {
      "cell_type": "code",
      "execution_count": null,
      "metadata": {
        "colab": {
          "base_uri": "https://localhost:8080/"
        },
        "id": "fhI1qc-ULezy",
        "outputId": "a6767479-83e5-473b-c78c-be8f29402a54"
      },
      "outputs": [
        {
          "name": "stderr",
          "output_type": "stream",
          "text": [
            "100%|██████████| 94/94 [00:06<00:00, 13.50it/s]\n"
          ]
        }
      ],
      "source": [
        "model_outputs = []\n",
        "deberta_model.eval()\n",
        "from tqdm import tqdm\n",
        "for batch in tqdm(dataloader):\n",
        "    batch = {key: val.to(device) for key, val in batch.items()}\n",
        "\n",
        "    with torch.no_grad():\n",
        "        outputs = deberta_model(**batch)\n",
        "        model_outputs.append(outputs)\n",
        "\n",
        "all_outputs = {\n",
        "    key: torch.cat([getattr(output, key) for output in model_outputs], dim=0)\n",
        "    for key in model_outputs[0].keys()\n",
        "}"
      ]
    },
    {
      "cell_type": "code",
      "execution_count": null,
      "metadata": {
        "colab": {
          "base_uri": "https://localhost:8080/"
        },
        "id": "RLBkTGOqMRGI",
        "outputId": "4e65a5c2-94ab-4a19-9ea8-41014a9a5ca5"
      },
      "outputs": [
        {
          "output_type": "stream",
          "name": "stdout",
          "text": [
            "torch.Size([1490, 64, 300])\n"
          ]
        }
      ],
      "source": [
        "print(all_outputs.shape)"
      ]
    },
    {
      "cell_type": "code",
      "execution_count": null,
      "metadata": {
        "id": "0SF0368rNoZO"
      },
      "outputs": [],
      "source": [
        "import numpy as np\n",
        "embs = all_outputs.cpu()\n",
        "np.save('./twitter_15_glove_new_clean', embs.numpy())"
      ]
    },
    {
      "cell_type": "code",
      "execution_count": null,
      "metadata": {
        "colab": {
          "base_uri": "https://localhost:8080/"
        },
        "id": "VfcLyoAgOTEN",
        "outputId": "6c97dfed-b89f-4011-e175-7227cea2334c"
      },
      "outputs": [
        {
          "output_type": "execute_result",
          "data": {
            "text/plain": [
              "(1490, 64, 300)"
            ]
          },
          "metadata": {},
          "execution_count": 42
        }
      ],
      "source": [
        "twitter15_vectors = np.load('./twitter_15_glove_new_clean.npy')\n",
        "twitter15_vectors.shape"
      ]
    },
    {
      "cell_type": "code",
      "execution_count": null,
      "metadata": {
        "colab": {
          "base_uri": "https://localhost:8080/"
        },
        "id": "haS43IYDOoyB",
        "outputId": "48b685f8-7850-400c-b98e-cb1e875e3fa3"
      },
      "outputs": [
        {
          "output_type": "stream",
          "name": "stdout",
          "text": [
            "Drive already mounted at /content/drive; to attempt to forcibly remount, call drive.mount(\"/content/drive\", force_remount=True).\n"
          ]
        }
      ],
      "source": [
        "from google.colab import drive\n",
        "drive.mount('/content/drive')"
      ]
    },
    {
      "cell_type": "code",
      "execution_count": null,
      "metadata": {
        "id": "KOV0kcSzOtoO"
      },
      "outputs": [],
      "source": [
        "!cp ./twitter_15_glove_new_clean.npy \"/content/drive/MyDrive/[Licenta] Maria-Diana COTELIN - Network-aware Fake News Mitigation/datas/embs\""
      ]
    },
    {
      "cell_type": "markdown",
      "metadata": {
        "id": "-Hs-FmRKfKxo"
      },
      "source": [
        "# CODE"
      ]
    },
    {
      "cell_type": "code",
      "execution_count": null,
      "metadata": {
        "colab": {
          "base_uri": "https://localhost:8080/"
        },
        "id": "AN1hKhAYhxl6",
        "outputId": "d8a3765d-9e07-4c7b-b236-12e274649312"
      },
      "outputs": [
        {
          "output_type": "stream",
          "name": "stdout",
          "text": [
            "Requirement already satisfied: tqdm in /usr/local/lib/python3.10/dist-packages (4.66.4)\n",
            "Requirement already satisfied: node2vec in /usr/local/lib/python3.10/dist-packages (0.4.6)\n",
            "Requirement already satisfied: gensim<5.0.0,>=4.1.2 in /usr/local/lib/python3.10/dist-packages (from node2vec) (4.3.2)\n",
            "Requirement already satisfied: joblib<2.0.0,>=1.1.0 in /usr/local/lib/python3.10/dist-packages (from node2vec) (1.4.2)\n",
            "Requirement already satisfied: networkx<3.0,>=2.5 in /usr/local/lib/python3.10/dist-packages (from node2vec) (2.8.8)\n",
            "Requirement already satisfied: numpy<2.0.0,>=1.19.5 in /usr/local/lib/python3.10/dist-packages (from node2vec) (1.25.2)\n",
            "Requirement already satisfied: tqdm<5.0.0,>=4.55.1 in /usr/local/lib/python3.10/dist-packages (from node2vec) (4.66.4)\n",
            "Requirement already satisfied: scipy>=1.7.0 in /usr/local/lib/python3.10/dist-packages (from gensim<5.0.0,>=4.1.2->node2vec) (1.11.4)\n",
            "Requirement already satisfied: smart-open>=1.8.1 in /usr/local/lib/python3.10/dist-packages (from gensim<5.0.0,>=4.1.2->node2vec) (7.0.4)\n",
            "Requirement already satisfied: wrapt in /usr/local/lib/python3.10/dist-packages (from smart-open>=1.8.1->gensim<5.0.0,>=4.1.2->node2vec) (1.14.1)\n",
            "Requirement already satisfied: demoji in /usr/local/lib/python3.10/dist-packages (1.1.0)\n",
            "--2024-06-16 23:51:19--  https://raw.githubusercontent.com/dianacotelin/fakenews/main/drive-download-20240527T175238Z-001/twitter15_tree_data.csv\n",
            "Resolving raw.githubusercontent.com (raw.githubusercontent.com)... 185.199.111.133, 185.199.110.133, 185.199.108.133, ...\n",
            "Connecting to raw.githubusercontent.com (raw.githubusercontent.com)|185.199.111.133|:443... connected.\n",
            "HTTP request sent, awaiting response... 200 OK\n",
            "Length: 41267063 (39M) [text/plain]\n",
            "Saving to: ‘twitter15_tree_data.csv.1’\n",
            "\n",
            "twitter15_tree_data 100%[===================>]  39.35M  --.-KB/s    in 0.08s   \n",
            "\n",
            "2024-06-16 23:51:20 (468 MB/s) - ‘twitter15_tree_data.csv.1’ saved [41267063/41267063]\n",
            "\n",
            "--2024-06-16 23:51:20--  https://raw.githubusercontent.com/dianacotelin/fakenews/main/drive-download-20240527T175238Z-001/twitter15_label_data.csv\n",
            "Resolving raw.githubusercontent.com (raw.githubusercontent.com)... 185.199.108.133, 185.199.109.133, 185.199.110.133, ...\n",
            "Connecting to raw.githubusercontent.com (raw.githubusercontent.com)|185.199.108.133|:443... connected.\n",
            "HTTP request sent, awaiting response... 200 OK\n",
            "Length: 40263 (39K) [text/plain]\n",
            "Saving to: ‘twitter15_label_data.csv.1’\n",
            "\n",
            "twitter15_label_dat 100%[===================>]  39.32K  --.-KB/s    in 0.001s  \n",
            "\n",
            "2024-06-16 23:51:20 (39.3 MB/s) - ‘twitter15_label_data.csv.1’ saved [40263/40263]\n",
            "\n",
            "--2024-06-16 23:51:20--  https://raw.githubusercontent.com/dianacotelin/fakenews/main/drive-download-20240527T175238Z-001/twitter15_source_tweet_data.csv\n",
            "Resolving raw.githubusercontent.com (raw.githubusercontent.com)... 185.199.108.133, 185.199.109.133, 185.199.110.133, ...\n",
            "Connecting to raw.githubusercontent.com (raw.githubusercontent.com)|185.199.108.133|:443... connected.\n",
            "HTTP request sent, awaiting response... 200 OK\n",
            "Length: 170299 (166K) [text/plain]\n",
            "Saving to: ‘twitter15_source_tweet_data.csv.1’\n",
            "\n",
            "twitter15_source_tw 100%[===================>] 166.31K  --.-KB/s    in 0.002s  \n",
            "\n",
            "2024-06-16 23:51:20 (71.5 MB/s) - ‘twitter15_source_tweet_data.csv.1’ saved [170299/170299]\n",
            "\n",
            "--2024-06-16 23:51:21--  https://raw.githubusercontent.com/dianacotelin/fakenews/main/drive-download-20240527T175238Z-001/twitter15_vectors.npy\n",
            "Resolving raw.githubusercontent.com (raw.githubusercontent.com)... 185.199.108.133, 185.199.109.133, 185.199.110.133, ...\n",
            "Connecting to raw.githubusercontent.com (raw.githubusercontent.com)|185.199.108.133|:443... connected.\n",
            "HTTP request sent, awaiting response... 200 OK\n",
            "Length: 4577408 (4.4M) [application/octet-stream]\n",
            "Saving to: ‘twitter15_vectors.npy.1’\n",
            "\n",
            "twitter15_vectors.n 100%[===================>]   4.37M  --.-KB/s    in 0.02s   \n",
            "\n",
            "2024-06-16 23:51:21 (187 MB/s) - ‘twitter15_vectors.npy.1’ saved [4577408/4577408]\n",
            "\n",
            "--2024-06-16 23:51:21--  https://raw.githubusercontent.com/dianacotelin/fakenews/main/drive-download-20240527T175238Z-001/twitter15_graph.graphml.xml\n",
            "Resolving raw.githubusercontent.com (raw.githubusercontent.com)... 185.199.108.133, 185.199.109.133, 185.199.110.133, ...\n",
            "Connecting to raw.githubusercontent.com (raw.githubusercontent.com)|185.199.108.133|:443... connected.\n",
            "HTTP request sent, awaiting response... 200 OK\n",
            "Length: 8193712 (7.8M) [text/plain]\n",
            "Saving to: ‘twitter15_graph.graphml.xml’\n",
            "\n",
            "twitter15_graph.gra 100%[===================>]   7.81M  --.-KB/s    in 0.02s   \n",
            "\n",
            "2024-06-16 23:51:24 (329 MB/s) - ‘twitter15_graph.graphml.xml’ saved [8193712/8193712]\n",
            "\n",
            "--2024-06-16 23:51:24--  https://raw.githubusercontent.com/dianacotelin/fakenews/main/drive-download-20240527T175238Z-001/embeddings.pickle\n",
            "Resolving raw.githubusercontent.com (raw.githubusercontent.com)... 185.199.108.133, 185.199.109.133, 185.199.110.133, ...\n",
            "Connecting to raw.githubusercontent.com (raw.githubusercontent.com)|185.199.108.133|:443... connected.\n",
            "HTTP request sent, awaiting response... 200 OK\n",
            "Length: 2872659 (2.7M) [application/octet-stream]\n",
            "Saving to: ‘embeddings.pickle.1’\n",
            "\n",
            "embeddings.pickle.1 100%[===================>]   2.74M  --.-KB/s    in 0.01s   \n",
            "\n",
            "2024-06-16 23:51:24 (250 MB/s) - ‘embeddings.pickle.1’ saved [2872659/2872659]\n",
            "\n"
          ]
        }
      ],
      "source": [
        "!pip install tqdm\n",
        "!pip install node2vec\n",
        "!pip install demoji\n",
        "\n",
        "!wget https://raw.githubusercontent.com/dianacotelin/fakenews/main/drive-download-20240527T175238Z-001/twitter15_tree_data.csv\n",
        "!wget https://raw.githubusercontent.com/dianacotelin/fakenews/main/drive-download-20240527T175238Z-001/twitter15_label_data.csv\n",
        "!wget https://raw.githubusercontent.com/dianacotelin/fakenews/main/drive-download-20240527T175238Z-001/twitter15_source_tweet_data.csv\n",
        "!wget https://raw.githubusercontent.com/dianacotelin/fakenews/main/drive-download-20240527T175238Z-001/twitter15_vectors.npy\n",
        "!wget https://raw.githubusercontent.com/dianacotelin/fakenews/main/drive-download-20240527T175238Z-001/twitter15_graph.graphml.xml\n",
        "!wget https://raw.githubusercontent.com/dianacotelin/fakenews/main/drive-download-20240527T175238Z-001/embeddings.pickle\n"
      ]
    },
    {
      "cell_type": "code",
      "execution_count": null,
      "metadata": {
        "colab": {
          "base_uri": "https://localhost:8080/"
        },
        "id": "-LNjJZ1Quw6y",
        "outputId": "af5ee2a7-c46d-4628-d010-d799557895e3"
      },
      "outputs": [
        {
          "output_type": "stream",
          "name": "stdout",
          "text": [
            "twitter_15_deb_new_clean.npy  twitter_15_glove_new_clean.npy  twitter_16_deb_new_clean.npy\n"
          ]
        }
      ],
      "source": [
        "!ls \"/content/drive/MyDrive/[Licenta] Maria-Diana COTELIN - Network-aware Fake News Mitigation/datas/embs/\"\n",
        "!cp \"/content/drive/MyDrive/[Licenta] Maria-Diana COTELIN - Network-aware Fake News Mitigation/datas/embs/twitter_15_glove_new_clean.npy\" ./twitter_15_glove_new_clean.npy"
      ]
    },
    {
      "cell_type": "markdown",
      "metadata": {
        "id": "6mXvbn5OvMGu"
      },
      "source": []
    },
    {
      "cell_type": "code",
      "execution_count": null,
      "metadata": {
        "id": "UJvPv7A1h-jQ"
      },
      "outputs": [],
      "source": [
        "import pandas as pd\n",
        "import torch\n",
        "from transformers import DebertaTokenizer, DebertaModel\n",
        "import numpy as np\n",
        "import networkx as nx\n",
        "import torch.nn as nn\n",
        "from torch.utils.data import DataLoader, TensorDataset\n",
        "from transformers import DebertaModel, DebertaTokenizer\n",
        "from sklearn.model_selection import train_test_split\n",
        "from sklearn.preprocessing import LabelEncoder\n",
        "from sklearn.metrics import accuracy_score\n",
        "from sklearn.metrics import precision_score, recall_score\n",
        "import torch.nn.functional as F\n",
        "import torch.optim as optim\n",
        "from sklearn.metrics import confusion_matrix\n",
        "import seaborn as sns\n",
        "import matplotlib.pyplot as plt\n",
        "import pickle"
      ]
    },
    {
      "cell_type": "code",
      "execution_count": null,
      "metadata": {
        "id": "oacw0Zkl1fmx",
        "colab": {
          "base_uri": "https://localhost:8080/"
        },
        "outputId": "6495595c-0c3f-4de7-a5a4-974fd4481e22"
      },
      "outputs": [
        {
          "output_type": "stream",
          "name": "stderr",
          "text": [
            "\r 22%|██▎       | 9/40 [08:28<29:10, 56.46s/it, Validation Loss:=1.3872, Validation Accuracy:=0.2483]\n"
          ]
        }
      ],
      "source": [
        "twitter15_tree_df = pd.read_csv('./twitter15_tree_data.csv')\n",
        "twitter15_label_df = pd.read_csv('./twitter15_label_data.csv')\n",
        "twitter15_source_tweet_df = pd.read_csv('./twitter15_source_tweet_data.csv')\n",
        "\n",
        "twitter15_vectors = np.load('./twitter_15_glove_new_clean.npy')\n",
        "\n",
        "G = nx.DiGraph()\n",
        "G = nx.read_graphml('./twitter15_graph.graphml.xml')\n",
        "\n",
        "import pickle\n",
        "with open('./embeddings.pickle', 'rb') as f:\n",
        "    embeddings = pickle.load(f)"
      ]
    },
    {
      "cell_type": "code",
      "execution_count": null,
      "metadata": {
        "colab": {
          "base_uri": "https://localhost:8080/"
        },
        "id": "M5Hs8mayiSYr",
        "outputId": "1d24e857-52c9-4161-bb37-238f708b3a2c"
      },
      "outputs": [
        {
          "output_type": "stream",
          "name": "stdout",
          "text": [
            "1490\n",
            "1490\n"
          ]
        }
      ],
      "source": [
        "glov_emb = {}\n",
        "n2v_emb = {}\n",
        "label = {}\n",
        "for idx in range(len(twitter15_vectors)):\n",
        "  glov_emb[twitter15_source_tweet_df['source_tweet_id'][idx]] = twitter15_vectors[idx]\n",
        "  n2v_emb[twitter15_source_tweet_df['source_tweet_id'][idx]] = embeddings[str(twitter15_source_tweet_df['source_tweet_id'][idx])]\n",
        "\n",
        "print(len(glov_emb))\n",
        "print(len(n2v_emb))"
      ]
    },
    {
      "cell_type": "code",
      "execution_count": null,
      "metadata": {
        "id": "aEqfgwdEiXIi"
      },
      "outputs": [],
      "source": [
        "labels = twitter15_label_df['label'].tolist()\n",
        "label_encoder = LabelEncoder()\n",
        "encoded_labels = label_encoder.fit_transform(labels)\n",
        "#####\n",
        "glov_emb_array = np.array(list(glov_emb.values()))\n",
        "n2v_emb_array = np.array(list(n2v_emb.values()))\n",
        "\n",
        "# Check if arrays have the same length\n",
        "assert glov_emb_array.shape[0] == n2v_emb_array.shape[0], \"Arrays have different lengths!\"\n",
        "\n",
        "# Split arrays into training and testing sets\n",
        "glov_train, glov_test, n2v_train, n2v_test, y_train, y_test = train_test_split(glov_emb_array, n2v_emb_array, encoded_labels, test_size=0.2, random_state=42)\n",
        "#####\n",
        "X_train, X_test, y_train, y_test = train_test_split(twitter15_vectors, encoded_labels, test_size=0.2, random_state=42)\n",
        "y_train = torch.tensor(y_train)\n",
        "y_test = torch.tensor(y_test)"
      ]
    },
    {
      "cell_type": "code",
      "execution_count": null,
      "metadata": {
        "colab": {
          "base_uri": "https://localhost:8080/",
          "height": 492
        },
        "id": "JDy0SdJN6MPT",
        "outputId": "40778fdc-5552-4013-b8e0-bd5ceface0f7"
      },
      "outputs": [
        {
          "output_type": "display_data",
          "data": {
            "text/plain": [
              "<Figure size 640x480 with 1 Axes>"
            ],
            "image/png": "[encoded data removed]"
          },
          "metadata": {}
        }
      ],
      "source": [
        "train_classes, train_counts = np.unique(y_train, return_counts=True)\n",
        "test_classes, test_counts = np.unique(y_test, return_counts=True)\n",
        "\n",
        "# Create bar chart\n",
        "fig, ax = plt.subplots()\n",
        "bar_width = 0.35\n",
        "index = np.arange(len(train_classes))\n",
        "train_bars = ax.bar(index, train_counts, bar_width, label='Train')\n",
        "test_bars = ax.bar(index + bar_width, test_counts, bar_width, label='Test')\n",
        "\n",
        "ax.set_xlabel('Class Label')\n",
        "ax.set_ylabel('Frequency')\n",
        "ax.set_title('Distribution of Class Labels in Train and Test Data')\n",
        "ax.set_xticks(index + bar_width / 2)\n",
        "ax.set_xticklabels(train_classes)\n",
        "ax.legend()\n",
        "\n",
        "plt.show()"
      ]
    },
    {
      "cell_type": "code",
      "execution_count": null,
      "metadata": {
        "id": "9_nTZ8DMidY8"
      },
      "outputs": [],
      "source": [
        "import torch\n",
        "from sklearn.metrics import accuracy_score, precision_score, recall_score, confusion_matrix, f1_score\n",
        "import seaborn as sns\n",
        "import matplotlib.pyplot as plt\n",
        "from tqdm import tqdm\n",
        "from sklearn.model_selection import KFold\n",
        "\n",
        "\n",
        "def train_model(model, criterion, optimizer, glov_train, n2v_train, y_train, glov_val, n2v_val, y_val, batch_size, num_epochs):\n",
        "    train_bar = tqdm(total=num_epochs, position=0, leave=True)\n",
        "    for epoch in range(num_epochs):\n",
        "        model.to(\"cuda\")\n",
        "        model.train()\n",
        "        running_loss = 0.0\n",
        "        for i in range(0, len(glov_train), batch_size):\n",
        "            inputs_deberta = torch.tensor(glov_train[i:i+batch_size], dtype=torch.float32).to(\"cuda\")\n",
        "            inputs_node = torch.tensor(n2v_train[i:i+batch_size], dtype=torch.float32).to(\"cuda\")\n",
        "            labels = y_train[i:i+batch_size].clone().detach().to(\"cuda\")\n",
        "\n",
        "            optimizer.zero_grad()\n",
        "            outputs = model(inputs_deberta, inputs_node)\n",
        "            loss = criterion(outputs, labels)\n",
        "            loss.backward()\n",
        "            optimizer.step()\n",
        "\n",
        "            running_loss += loss.item() * len(inputs_deberta)\n",
        "            # train_bar.update(len(inputs_deberta))\n",
        "\n",
        "        epoch_loss = running_loss / len(glov_train)\n",
        "        val_loss, val_acc = validate_model(model, criterion, glov_val, n2v_val, y_val, batch_size)\n",
        "        train_bar.update(1)\n",
        "        train_bar.set_postfix({'Validation Loss:': f'{val_loss:.4f}',\n",
        "                               'Validation Accuracy:' : f'{val_acc:.4f}'})\n",
        "\n",
        "def train_model_with_cv(model, criterion, optimizer, glov_train, n2v_train, y_train, batch_size, num_epochs, n_splits=4):\n",
        "    kf = KFold(n_splits=n_splits, shuffle=True, random_state=42)\n",
        "    fold = 0\n",
        "    total_val_acc = 0.0\n",
        "    total_val_loss = 0.0\n",
        "\n",
        "    for train_index, val_index in kf.split(glov_train):\n",
        "        fold += 1\n",
        "        print(f\"Training on fold {fold}/{n_splits}...\")\n",
        "\n",
        "        train_fold_glov = glov_train[train_index]\n",
        "        train_fold_n2v = n2v_train[train_index]\n",
        "        train_fold_y = y_train[train_index]\n",
        "\n",
        "        val_fold_glov = glov_train[val_index]\n",
        "        val_fold_n2v = n2v_train[val_index]\n",
        "        val_fold_y = y_train[val_index]\n",
        "\n",
        "        train_bar = tqdm(total=num_epochs, position=0, leave=True)\n",
        "        for epoch in range(num_epochs):\n",
        "            model.to(\"cuda\")\n",
        "            model.train()\n",
        "            running_loss = 0.0\n",
        "            for i in range(0, len(train_fold_glov), batch_size):\n",
        "                inputs_deberta = torch.tensor(train_fold_glov[i:i+batch_size], dtype=torch.float32).to(\"cuda\")\n",
        "                inputs_node = torch.tensor(train_fold_n2v[i:i+batch_size], dtype=torch.float32).to(\"cuda\")\n",
        "                labels = train_fold_y[i:i+batch_size].clone().detach().to(\"cuda\")\n",
        "\n",
        "                optimizer.zero_grad()\n",
        "                outputs = model(inputs_deberta, inputs_node)\n",
        "                loss = criterion(outputs, labels)\n",
        "                loss.backward()\n",
        "                optimizer.step()\n",
        "\n",
        "                running_loss += loss.item() * len(inputs_deberta)\n",
        "\n",
        "            epoch_loss = running_loss / len(train_fold_glov)\n",
        "            val_loss, val_acc = validate_model(model, criterion, val_fold_glov, val_fold_n2v, val_fold_y, batch_size)\n",
        "\n",
        "            train_bar.update(1)\n",
        "            train_bar.set_postfix({'Validation Loss:': f'{val_loss:.4f}', 'Validation Accuracy:' : f'{val_acc:.4f}'})\n",
        "\n",
        "        total_val_acc += val_acc  # accumulate validation accuracy for averaging later\n",
        "        total_val_loss += val_loss\n",
        "        train_bar.close()\n",
        "\n",
        "    avg_val_acc = total_val_acc / n_splits\n",
        "    avg_val_loss = total_val_loss / n_splits\n",
        "    print({'Validation Loss:': f'{avg_val_loss:.4f}', 'Validation Accuracy:' : f'{avg_val_acc:.4f}'})\n",
        "\n",
        "\n",
        "# Define the validation function\n",
        "def validate_model(model, criterion, glov_val, n2v_val, y_val, batch_size):\n",
        "    model.to(\"cpu\")\n",
        "    model.eval()\n",
        "    val_loss = 0.0\n",
        "    all_outputs = []\n",
        "    all_labels = []\n",
        "    with torch.no_grad():\n",
        "        for i in range(0, len(glov_val), batch_size):\n",
        "            inputs_deberta = torch.tensor(glov_val[i:i+batch_size], dtype=torch.float32)\n",
        "            inputs_node = torch.tensor(n2v_val[i:i+batch_size], dtype=torch.float32)\n",
        "            labels = y_val[i:i+batch_size]\n",
        "\n",
        "            outputs = model(inputs_deberta, inputs_node)\n",
        "            loss = criterion(outputs, labels)\n",
        "            val_loss += loss.item() * len(inputs_deberta)\n",
        "            all_outputs.append(outputs)\n",
        "            all_labels.extend(labels)\n",
        "\n",
        "    val_loss /= len(glov_val)\n",
        "    all_outputs = torch.cat(all_outputs)\n",
        "    _, predicted = torch.max(all_outputs, 1)\n",
        "    val_acc = accuracy_score(all_labels, predicted)\n",
        "    return val_loss, val_acc\n",
        "\n",
        "# Define the testing function\n",
        "def test_model(model, glov_test, n2v_test, y_test, batch_size):\n",
        "    model.eval()\n",
        "    all_outputs = []\n",
        "    all_labels = []\n",
        "    with torch.no_grad():\n",
        "        for i in range(0, len(glov_test), batch_size):\n",
        "            inputs_deberta = torch.tensor(glov_test[i:i+batch_size], dtype=torch.float32)\n",
        "            inputs_node = torch.tensor(n2v_test[i:i+batch_size], dtype=torch.float32)\n",
        "            labels = y_test[i:i+batch_size]\n",
        "\n",
        "            outputs = model(inputs_deberta, inputs_node)\n",
        "            all_outputs.append(outputs)\n",
        "            all_labels.extend(labels)\n",
        "\n",
        "    all_outputs = torch.cat(all_outputs)\n",
        "    _, predicted = torch.max(all_outputs, 1)\n",
        "    acc = accuracy_score(all_labels, predicted)\n",
        "    precision = precision_score(all_labels, predicted, average=None)\n",
        "    recall = recall_score(all_labels, predicted, average=None)\n",
        "    f1score = f1_score(all_labels, predicted, average=None)\n",
        "    print(f'Accuracy: {acc:.4f}')\n",
        "    print(f'Precision: {precision}')\n",
        "    print(f'Recall: {recall}')\n",
        "    print(f'F1 Score: {f1score}')\n",
        "\n",
        "    conf_matrix = confusion_matrix(all_labels, predicted)\n",
        "\n",
        "    plt.figure(figsize=(8, 6))\n",
        "    sns.heatmap(conf_matrix, annot=True, fmt=\"d\", cmap=\"Blues\")\n",
        "    plt.xlabel('Predicted Labels')\n",
        "    plt.ylabel('True Labels')\n",
        "    plt.title('Confusion Matrix')\n",
        "    plt.show()"
      ]
    },
    {
      "cell_type": "code",
      "execution_count": null,
      "metadata": {
        "id": "ioWhxYP4kFEW"
      },
      "outputs": [],
      "source": [
        "class TextClassificationModel(nn.Module):\n",
        "    def __init__(self, glov_dim=300, n2v_dim=64, hidden_size=256, num_classes=4, num_layers=2, dropout=0.2):\n",
        "        super(TextClassificationModel, self).__init__()\n",
        "        self.do = nn.Dropout(p=dropout)\n",
        "        self.relu = nn.ReLU()\n",
        "\n",
        "        self.lstm = nn.LSTM(input_size=glov_dim,\n",
        "                            hidden_size=hidden_size,\n",
        "                            bidirectional=True,\n",
        "                            batch_first=True,\n",
        "                            num_layers=num_layers,\n",
        "                            dropout=dropout)\n",
        "\n",
        "        self.c1 = torch.nn.Conv1d(n2v_dim, 128, 5)\n",
        "        self.m1 = torch.nn.MaxPool1d(3)\n",
        "\n",
        "        self.c2 = torch.nn.Conv1d(128, 64, 3)\n",
        "        self.m2 = torch.nn.MaxPool1d(3)\n",
        "\n",
        "        self.fc1 = nn.Linear(64, 32)\n",
        "        self.fc2 = nn.Linear(32, num_classes)\n",
        "\n",
        "    def forward(self, glove_embeddings, node2vec_embeddings):\n",
        "\n",
        "        # LSTM processing\n",
        "        lstm_out, _ = self.lstm(self.do(glove_embeddings))\n",
        "        # Convolutional processing\n",
        "        c1 = self.c1(lstm_out)\n",
        "        c1 = self.relu(c1)\n",
        "        c1 = self.m1(c1)\n",
        "\n",
        "        c2 = self.c2(c1)\n",
        "        c2 = self.relu(c2)\n",
        "        c2 = self.m2(c2)\n",
        "\n",
        "        pooled_out, _ = torch.max(c2, dim=2)\n",
        "        fc1 = self.fc1(pooled_out)\n",
        "        fc1 = self.relu(fc1)\n",
        "        output = self.fc2(fc1)\n",
        "\n",
        "        return output"
      ]
    },
    {
      "cell_type": "code",
      "execution_count": null,
      "metadata": {
        "id": "6j93Tgqhu9Xl"
      },
      "outputs": [],
      "source": [
        "class TextClassificationModel2(nn.Module):\n",
        "    def __init__(self, glov_dim=300, n2v_dim=64, hidden_size=128, num_classes=4, num_layers=2, dropout=0.2):\n",
        "        super(TextClassificationModel2, self).__init__()\n",
        "        self.do = nn.Dropout(p=dropout)\n",
        "        self.relu = nn.ReLU()\n",
        "\n",
        "        self.lstm = nn.GRU(input_size=glov_dim,\n",
        "                            hidden_size=hidden_size,\n",
        "                            bidirectional=True,\n",
        "                            batch_first=True,\n",
        "                            num_layers=num_layers,\n",
        "                            dropout=dropout)\n",
        "\n",
        "        self.c1 = torch.nn.Conv1d(64, 128, 3)\n",
        "        self.m1 = torch.nn.MaxPool1d(3)\n",
        "\n",
        "        self.c2 = torch.nn.Conv1d(128, 64, 3)\n",
        "        self.m2 = torch.nn.MaxPool1d(3)\n",
        "\n",
        "        self.fc1 = nn.Linear(64, 32)\n",
        "        self.fc2 = nn.Linear(32, num_classes)\n",
        "\n",
        "    def forward(self, deberta_embeddings, node2vec_embeddings):\n",
        "\n",
        "        lstm_out, _ = self.lstm(self.do(deberta_embeddings))\n",
        "\n",
        "        c1 = self.c1(lstm_out)\n",
        "        c1 = self.relu(c1)\n",
        "        c1 = self.m1(c1)\n",
        "\n",
        "        c2 = self.c2(c1)\n",
        "        c2 = self.relu(c2)\n",
        "\n",
        "        pooled_out, _ = torch.max(c2, dim=2)\n",
        "        fc1 = self.fc1(pooled_out)\n",
        "        fc1 = self.relu(fc1)\n",
        "        output = self.fc2(fc1)\n",
        "\n",
        "\n",
        "        return output"
      ]
    },
    {
      "cell_type": "code",
      "execution_count": null,
      "metadata": {
        "id": "8xBuiANww9G-"
      },
      "outputs": [],
      "source": [
        "class TextClassificationModel3(nn.Module):\n",
        "    def __init__(self, glov_dim=300, n2v_dim=64, hidden_size=128, num_classes=4, num_layers=2, dropout=0.2):\n",
        "        super(TextClassificationModel3, self).__init__()\n",
        "        self.do = nn.Dropout(p=dropout)\n",
        "        self.relu = nn.ReLU()\n",
        "\n",
        "        self.lstm = nn.LSTM(input_size=364,\n",
        "                            hidden_size=hidden_size,\n",
        "                            bidirectional=True,\n",
        "                            batch_first=True,\n",
        "                            num_layers=num_layers,\n",
        "                            dropout=dropout)\n",
        "\n",
        "        self.c1 = torch.nn.Conv1d(64, 48, 3)\n",
        "        self.m1 = torch.nn.MaxPool1d(3)\n",
        "\n",
        "        self.c2 = torch.nn.Conv1d(48, 32, 3)\n",
        "        self.m2 = torch.nn.MaxPool1d(3)\n",
        "\n",
        "        self.fc1 = nn.Linear(32, 16)\n",
        "        self.fc2 = nn.Linear(16, 4)\n",
        "\n",
        "    def forward(self, deberta_embeddings, node2vec_embeddings):\n",
        "        deberta_embeddings = self.do(deberta_embeddings)\n",
        "\n",
        "        combined_embeddings = torch.cat([deberta_embeddings,\n",
        "                                         node2vec_embeddings.unsqueeze(1).expand(-1, 64, -1)],\n",
        "                                        dim=2)\n",
        "        lstm_out, _ = self.lstm(self.do(combined_embeddings))\n",
        "\n",
        "        c1 = self.c1(lstm_out)\n",
        "        c1 = self.relu(c1)\n",
        "        c1 = self.m1(c1)\n",
        "\n",
        "        c2 = self.c2(c1)\n",
        "        c2 = self.relu(c2)\n",
        "\n",
        "        pooled_out, _ = torch.max(c2, dim=2)\n",
        "        fc1 = self.fc1(pooled_out)\n",
        "        fc1 = self.relu(fc1)\n",
        "        output = self.fc2(fc1)\n",
        "\n",
        "\n",
        "        return output"
      ]
    },
    {
      "cell_type": "code",
      "execution_count": null,
      "metadata": {
        "id": "v5SyP-3hzsGP"
      },
      "outputs": [],
      "source": [
        "class TextClassificationModel4(nn.Module):\n",
        "    def __init__(self, glov_dim=300, n2v_dim=64, hidden_size=128, num_classes=4, num_layers=2, dropout=0.2):\n",
        "        super(TextClassificationModel4, self).__init__()\n",
        "        self.do = nn.Dropout(p=0.1)\n",
        "        self.relu = nn.ReLU()\n",
        "\n",
        "        self.lstm = nn.GRU(input_size=364,\n",
        "                            hidden_size=hidden_size,\n",
        "                            bidirectional=True,\n",
        "                            batch_first=True,\n",
        "                            num_layers=num_layers,\n",
        "                            dropout=dropout)\n",
        "\n",
        "        self.c1 = torch.nn.Conv1d(64, 256, 3)\n",
        "        self.m1 = torch.nn.MaxPool1d(3)\n",
        "\n",
        "        self.c2 = torch.nn.Conv1d(256, 128, 3)\n",
        "        self.m2 = torch.nn.MaxPool1d(3)\n",
        "\n",
        "        self.fc1 = nn.Linear(128, 64)\n",
        "        self.fc2 = nn.Linear(64, 4)\n",
        "\n",
        "    def forward(self, deberta_embeddings, node2vec_embeddings):\n",
        "\n",
        "        deberta_embeddings = self.do(deberta_embeddings)\n",
        "\n",
        "        combined_embeddings = torch.cat([deberta_embeddings,\n",
        "                                         node2vec_embeddings.unsqueeze(1).expand(-1, 64, -1)],\n",
        "                                        dim=2)\n",
        "        lstm_out, _ = self.lstm(self.do(combined_embeddings))\n",
        "\n",
        "        c1 = self.c1(lstm_out)\n",
        "        c1 = self.relu(c1)\n",
        "        c1 = self.m1(c1)\n",
        "\n",
        "        c2 = self.c2(c1)\n",
        "        c2 = self.relu(c2)\n",
        "\n",
        "        pooled_out, _ = torch.max(c2, dim=2)\n",
        "        fc1 = self.fc1(pooled_out)\n",
        "        fc1 = self.relu(fc1)\n",
        "        output = self.fc2(fc1)\n",
        "\n",
        "\n",
        "        return output"
      ]
    },
    {
      "cell_type": "code",
      "execution_count": null,
      "metadata": {
        "id": "9XNrrd8E3Vg9"
      },
      "outputs": [],
      "source": [
        "\n",
        "class TextClassificationModel5(nn.Module):\n",
        "    def __init__(self, glov_dim=300, n2v_dim=64, hidden_size=256, num_classes=4, num_layers=2, dropout=0.2):\n",
        "        super(TextClassificationModel5, self).__init__()\n",
        "        self.do = nn.Dropout(p=dropout)\n",
        "        self.relu = nn.ReLU()\n",
        "\n",
        "        # Convolutional Layers\n",
        "        self.c1 = nn.Conv1d(in_channels=glov_dim, out_channels=128, kernel_size=5)\n",
        "        self.m1 = nn.MaxPool1d(kernel_size=3)\n",
        "\n",
        "        self.c2 = nn.Conv1d(in_channels=128, out_channels=64, kernel_size=3)\n",
        "        self.m2 = nn.MaxPool1d(kernel_size=3)\n",
        "\n",
        "        # BiLSTM Layer\n",
        "        self.lstm = nn.LSTM(input_size=64,\n",
        "                            hidden_size=hidden_size,\n",
        "                            num_layers=num_layers,\n",
        "                            bidirectional=True,\n",
        "                            batch_first=True,\n",
        "                            dropout=dropout)\n",
        "\n",
        "        # Fully Connected Layers\n",
        "        self.fc1 = nn.Linear(in_features=hidden_size*2, out_features=32)\n",
        "        self.fc2 = nn.Linear(in_features=32, out_features=num_classes)\n",
        "\n",
        "    def forward(self, deberta_embeddings, node2vec_embeddings):\n",
        "        # Convolutional processing\n",
        "        deberta_embeddings = deberta_embeddings.permute(0, 2, 1)\n",
        "\n",
        "        c1 = self.c1(deberta_embeddings)\n",
        "        c1 = self.relu(c1)\n",
        "        c1 = self.m1(c1)\n",
        "\n",
        "        c2 = self.c2(c1)\n",
        "        c2 = self.relu(c2)\n",
        "        c2 = self.m2(c2)\n",
        "\n",
        "        # Prepare for LSTM (batch_size, sequence_length, channels)\n",
        "        c2 = c2.permute(0, 2, 1)\n",
        "\n",
        "        # LSTM processing\n",
        "        lstm_out, _ = self.lstm(self.do(c2))\n",
        "\n",
        "        # Pooling and Flattening\n",
        "        pooled_out, _ = torch.max(lstm_out, dim=1)\n",
        "\n",
        "        # Fully connected layers\n",
        "        fc1 = self.fc1(pooled_out)\n",
        "        fc1 = self.relu(fc1)\n",
        "        output = self.fc2(fc1)\n",
        "\n",
        "        return output"
      ]
    },
    {
      "cell_type": "code",
      "execution_count": null,
      "metadata": {
        "id": "TEg2Sb_iAYWF"
      },
      "outputs": [],
      "source": [
        "\n",
        "class TextClassificationModel6(nn.Module):\n",
        "    def __init__(self, glov_dim=300, n2v_dim=64, hidden_size=128, num_classes=4, num_layers=2, dropout=0.2):\n",
        "        super(TextClassificationModel6, self).__init__()\n",
        "        self.do = nn.Dropout(p=dropout)\n",
        "        self.relu = nn.ReLU()\n",
        "\n",
        "        # Convolutional Layers\n",
        "        self.c1 = nn.Conv1d(in_channels=glov_dim, out_channels=64, kernel_size=3)\n",
        "        self.m1 = nn.MaxPool1d(kernel_size=3)\n",
        "\n",
        "        self.c2 = nn.Conv1d(in_channels=64, out_channels=32, kernel_size=3)\n",
        "        self.m2 = nn.MaxPool1d(kernel_size=3)\n",
        "\n",
        "        # BiGRU Layer\n",
        "        self.gru = nn.GRU(input_size=32,\n",
        "                          hidden_size=hidden_size,\n",
        "                          bidirectional=True,\n",
        "                          batch_first=True,\n",
        "                          num_layers=num_layers,\n",
        "                          dropout=dropout)\n",
        "\n",
        "        # Fully Connected Layers\n",
        "        self.fc1 = nn.Linear(in_features=hidden_size*2, out_features=16)\n",
        "        self.fc2 = nn.Linear(in_features=16, out_features=num_classes)\n",
        "\n",
        "    def forward(self, deberta_embeddings, node2vec_embeddings):\n",
        "        # Convolutional processing\n",
        "        deberta_embeddings = deberta_embeddings.permute(0, 2, 1)\n",
        "\n",
        "        c1 = self.c1(deberta_embeddings)\n",
        "        c1 = self.relu(c1)\n",
        "        c1 = self.m1(c1)\n",
        "\n",
        "        c2 = self.c2(c1)\n",
        "        c2 = self.relu(c2)\n",
        "        c2 = self.m2(c2)\n",
        "\n",
        "        # Prepare for GRU (batch_size, sequence_length, channels)\n",
        "        c2 = c2.permute(0, 2, 1)\n",
        "\n",
        "        # BiGRU processing\n",
        "        gru_out, _ = self.gru(self.do(c2))\n",
        "\n",
        "        # Pooling and Flattening\n",
        "        pooled_out, _ = torch.max(gru_out, dim=1)\n",
        "\n",
        "        # Fully connected layers\n",
        "        fc1 = self.fc1(pooled_out)\n",
        "        fc1 = self.relu(fc1)\n",
        "        output = self.fc2(fc1)\n",
        "\n",
        "        return output"
      ]
    },
    {
      "cell_type": "code",
      "source": [
        "class TextClassificationModel7(nn.Module):\n",
        "    def __init__(self, glov_dim=300, n2v_dim=64, hidden_size=128, num_classes=4, num_layers=2, dropout=0.2):\n",
        "        super(TextClassificationModel7, self).__init__()\n",
        "        self.do = nn.Dropout(p=dropout)\n",
        "        self.relu = nn.ReLU()\n",
        "\n",
        "        self.cnn1 = nn.Conv1d(in_channels=364, out_channels=128, kernel_size=3, padding=1)\n",
        "        self.cnn2 = nn.Conv1d(in_channels=128, out_channels=64, kernel_size=3, padding=1)\n",
        "        self.maxpool = nn.MaxPool1d(kernel_size=2, stride=2)\n",
        "\n",
        "        self.lstm = nn.LSTM(input_size=64,\n",
        "                            hidden_size=hidden_size,\n",
        "                            bidirectional=True,\n",
        "                            batch_first=True,\n",
        "                            num_layers=num_layers,\n",
        "                            dropout=dropout)\n",
        "\n",
        "        self.fc1 = nn.Linear(hidden_size * 2, 16)\n",
        "        self.fc2 = nn.Linear(16, num_classes)\n",
        "\n",
        "    def forward(self, deberta_embeddings, node2vec_embeddings):\n",
        "        deberta_embeddings = self.do(deberta_embeddings)\n",
        "\n",
        "        combined_embeddings = torch.cat([deberta_embeddings,\n",
        "                                         node2vec_embeddings.unsqueeze(1).expand(-1, 64, -1)],\n",
        "                                        dim=2)\n",
        "        # CNN layers\n",
        "        cnn_out = self.cnn1(combined_embeddings.permute(0, 2, 1))\n",
        "        cnn_out = self.relu(cnn_out)\n",
        "        cnn_out = self.maxpool(cnn_out)\n",
        "\n",
        "        cnn_out = self.cnn2(cnn_out)\n",
        "        cnn_out = self.relu(cnn_out)\n",
        "        cnn_out = self.maxpool(cnn_out)\n",
        "\n",
        "        # Permute back to (batch, seq_len, feature)\n",
        "        cnn_out = cnn_out.permute(0, 2, 1)\n",
        "\n",
        "        # LSTM layers\n",
        "        lstm_out, _ = self.lstm(self.do(cnn_out))\n",
        "\n",
        "        # Max pooling over the sequence length\n",
        "        pooled_out, _ = torch.max(lstm_out, dim=1)\n",
        "        fc1 = self.fc1(pooled_out)\n",
        "        fc1 = self.relu(fc1)\n",
        "        output = self.fc2(fc1)\n",
        "\n",
        "\n",
        "        return output"
      ],
      "metadata": {
        "id": "KCfg6XRKQOC3"
      },
      "execution_count": null,
      "outputs": []
    },
    {
      "cell_type": "code",
      "source": [
        "class TextClassificationModel8(nn.Module):\n",
        "    def __init__(self, glov_dim=300, n2v_dim=64, hidden_size=128, num_classes=4, num_layers=2, dropout=0.2):\n",
        "        super(TextClassificationModel8, self).__init__()\n",
        "        self.do = nn.Dropout(p=dropout)\n",
        "        self.relu = nn.ReLU()\n",
        "\n",
        "        self.cnn1 = nn.Conv1d(in_channels=364, out_channels=256, kernel_size=3, padding=1)\n",
        "        self.cnn2 = nn.Conv1d(in_channels=256, out_channels=128, kernel_size=3, padding=1)\n",
        "        self.maxpool = nn.MaxPool1d(kernel_size=2, stride=2)\n",
        "\n",
        "        self.gru = nn.GRU(input_size=128,\n",
        "                          hidden_size=hidden_size,\n",
        "                          bidirectional=True,\n",
        "                          batch_first=True,\n",
        "                          num_layers=num_layers,\n",
        "                          dropout=dropout)\n",
        "\n",
        "        self.fc1 = nn.Linear(hidden_size * 2, 64)\n",
        "        self.fc2 = nn.Linear(64, num_classes)\n",
        "\n",
        "    def forward(self, deberta_embeddings, node2vec_embeddings):\n",
        "\n",
        "        deberta_embeddings = self.do(deberta_embeddings)\n",
        "\n",
        "        combined_embeddings = torch.cat([deberta_embeddings,\n",
        "                                         node2vec_embeddings.unsqueeze(1).expand(-1, 64, -1)],\n",
        "                                        dim=2)\n",
        "        cnn_out = self.cnn1(combined_embeddings.permute(0, 2, 1))\n",
        "        cnn_out = self.relu(cnn_out)\n",
        "        cnn_out = self.maxpool(cnn_out)\n",
        "\n",
        "        cnn_out = self.cnn2(cnn_out)\n",
        "        cnn_out = self.relu(cnn_out)\n",
        "        cnn_out = self.maxpool(cnn_out)\n",
        "\n",
        "        # Permute back to (batch, seq_len, feature)\n",
        "        cnn_out = cnn_out.permute(0, 2, 1)\n",
        "\n",
        "        # GRU layers\n",
        "        gru_out, _ = self.gru(self.do(cnn_out))\n",
        "\n",
        "        pooled_out, _ = torch.max(gru_out, dim=1)\n",
        "        fc1 = self.fc1(pooled_out)\n",
        "        fc1 = self.relu(fc1)\n",
        "        output = self.fc2(fc1)\n",
        "\n",
        "\n",
        "        return output"
      ],
      "metadata": {
        "id": "lWrLP1-3QRMb"
      },
      "execution_count": null,
      "outputs": []
    },
    {
      "cell_type": "code",
      "execution_count": null,
      "metadata": {
        "id": "sJC2FraVCqlW",
        "colab": {
          "base_uri": "https://localhost:8080/",
          "height": 1000
        },
        "outputId": "44715363-82ef-4281-9df3-40139d38c37e"
      },
      "outputs": [
        {
          "output_type": "stream",
          "name": "stderr",
          "text": [
            "100%|██████████| 30/30 [00:29<00:00,  1.01it/s, Validation Loss:=3.0576, Validation Accuracy:=0.3975]\n",
            "100%|██████████| 30/30 [00:38<00:00,  1.27s/it, Validation Loss:=2.7185, Validation Accuracy:=0.4142]\n",
            "100%|██████████| 40/40 [00:39<00:00,  1.01it/s, Validation Loss:=3.1659, Validation Accuracy:=0.3975]\n",
            "100%|██████████| 40/40 [00:50<00:00,  1.27s/it, Validation Loss:=3.0770, Validation Accuracy:=0.4435]\n",
            "100%|██████████| 30/30 [00:29<00:00,  1.00it/s, Validation Loss:=3.3122, Validation Accuracy:=0.4184]\n",
            "100%|██████████| 30/30 [00:37<00:00,  1.26s/it, Validation Loss:=3.3173, Validation Accuracy:=0.4477]\n",
            "100%|██████████| 40/40 [00:40<00:00,  1.00s/it, Validation Loss:=3.8652, Validation Accuracy:=0.4351]\n",
            "100%|██████████| 40/40 [00:50<00:00,  1.27s/it, Validation Loss:=2.5286, Validation Accuracy:=0.4100]\n",
            "100%|██████████| 30/30 [01:02<00:00,  2.07s/it, Validation Loss:=2.8731, Validation Accuracy:=0.3808]\n",
            "100%|██████████| 30/30 [01:23<00:00,  2.78s/it, Validation Loss:=1.4337, Validation Accuracy:=0.2971]\n",
            "100%|██████████| 40/40 [01:19<00:00,  1.98s/it, Validation Loss:=1.9863, Validation Accuracy:=0.3975]\n",
            "100%|██████████| 40/40 [01:53<00:00,  2.83s/it, Validation Loss:=2.8588, Validation Accuracy:=0.3933]\n",
            "100%|██████████| 30/30 [01:02<00:00,  2.08s/it, Validation Loss:=3.2913, Validation Accuracy:=0.4142]\n",
            "100%|██████████| 30/30 [01:25<00:00,  2.84s/it, Validation Loss:=1.8937, Validation Accuracy:=0.3515]\n",
            "100%|██████████| 40/40 [01:23<00:00,  2.09s/it, Validation Loss:=5.5174, Validation Accuracy:=0.3473]\n",
            "100%|██████████| 40/40 [01:53<00:00,  2.84s/it, Validation Loss:=2.8832, Validation Accuracy:=0.3431]\n",
            "100%|██████████| 30/30 [00:29<00:00,  1.01it/s, Validation Loss:=2.1030, Validation Accuracy:=0.3347]\n",
            "100%|██████████| 30/30 [00:38<00:00,  1.27s/it, Validation Loss:=1.6768, Validation Accuracy:=0.3724]\n",
            "100%|██████████| 40/40 [00:39<00:00,  1.01it/s, Validation Loss:=3.0368, Validation Accuracy:=0.3389]\n",
            "100%|██████████| 40/40 [00:50<00:00,  1.27s/it, Validation Loss:=2.1623, Validation Accuracy:=0.4686]\n",
            "100%|██████████| 30/30 [00:30<00:00,  1.00s/it, Validation Loss:=3.2207, Validation Accuracy:=0.4017]\n",
            "100%|██████████| 30/30 [00:38<00:00,  1.27s/it, Validation Loss:=2.7003, Validation Accuracy:=0.3975]\n",
            "100%|██████████| 40/40 [00:39<00:00,  1.01it/s, Validation Loss:=3.5380, Validation Accuracy:=0.4351]\n",
            "100%|██████████| 40/40 [00:50<00:00,  1.27s/it, Validation Loss:=3.0880, Validation Accuracy:=0.4561]\n",
            "100%|██████████| 30/30 [01:02<00:00,  2.09s/it, Validation Loss:=1.9172, Validation Accuracy:=0.3389]\n",
            "100%|██████████| 30/30 [01:23<00:00,  2.80s/it, Validation Loss:=2.1084, Validation Accuracy:=0.3766]\n",
            "100%|██████████| 40/40 [01:22<00:00,  2.06s/it, Validation Loss:=3.1644, Validation Accuracy:=0.3766]\n",
            "100%|██████████| 40/40 [01:54<00:00,  2.85s/it, Validation Loss:=1.7672, Validation Accuracy:=0.3431]\n",
            "100%|██████████| 30/30 [01:02<00:00,  2.10s/it, Validation Loss:=2.2160, Validation Accuracy:=0.3766]\n",
            "100%|██████████| 30/30 [01:25<00:00,  2.85s/it, Validation Loss:=2.9594, Validation Accuracy:=0.3891]\n",
            "100%|██████████| 40/40 [01:24<00:00,  2.12s/it, Validation Loss:=2.3605, Validation Accuracy:=0.4310]\n",
            "100%|██████████| 40/40 [01:54<00:00,  2.85s/it, Validation Loss:=2.3302, Validation Accuracy:=0.3473]\n"
          ]
        },
        {
          "output_type": "stream",
          "name": "stdout",
          "text": [
            "Best parameters: {'batch_size': 24, 'dropout': 0.2, 'hidden_size': 256, 'lr': 0.0001, 'num_epochs': 40, 'num_layers': 4}\n",
            "Best validation accuracy: 0.4686\n"
          ]
        },
        {
          "output_type": "stream",
          "name": "stderr",
          "text": [
            "100%|██████████| 40/40 [01:04<00:00,  1.60s/it, Validation Loss:=2.4810, Validation Accuracy:=0.4698]\n"
          ]
        },
        {
          "output_type": "stream",
          "name": "stdout",
          "text": [
            "Accuracy: 0.4698\n",
            "Precision: [0.47826087 0.45901639 0.62857143 0.35714286]\n",
            "Recall: [0.42307692 0.34567901 0.59459459 0.53846154]\n",
            "F1 Score: [0.44897959 0.3943662  0.61111111 0.42944785]\n"
          ]
        },
        {
          "output_type": "display_data",
          "data": {
            "text/plain": [
              "<Figure size 800x600 with 2 Axes>"
            ],
            "image/png": "[encoded data removed]"
          },
          "metadata": {}
        }
      ],
      "source": [
        "import torch.nn as nn\n",
        "import torch.optim as optim\n",
        "from torch.optim.lr_scheduler import StepLR\n",
        "from sklearn.model_selection import GridSearchCV\n",
        "from sklearn.metrics import make_scorer, accuracy_score\n",
        "from sklearn.model_selection import train_test_split, ParameterGrid\n",
        "\n",
        "def custom_scorer(estimator, X, y, batch_size):\n",
        "    deb_val, n2v_val = X\n",
        "    y_val = y\n",
        "    criterion = nn.CrossEntropyLoss()\n",
        "\n",
        "    _, val_acc = validate_model(estimator, criterion, deb_val, n2v_val, y_val, batch_size)\n",
        "    return val_acc\n",
        "\n",
        "def model_fit_predict(deb_train, n2v_train, y_train, deb_test, n2v_test, y_test, param_grid, cv=3):\n",
        "    best_score = 0.0\n",
        "    best_params = None\n",
        "\n",
        "    for params in ParameterGrid(param_grid):\n",
        "        # Split the training data into training and validation sets\n",
        "        deb_train_split, deb_val_split, n2v_train_split, n2v_val_split, y_train_split, y_val_split = train_test_split(\n",
        "            deb_train, n2v_train, y_train, test_size=0.2, random_state=42\n",
        "        )\n",
        "\n",
        "        model = TextClassificationModel(\n",
        "            hidden_size=params['hidden_size'],\n",
        "            num_layers=params['num_layers'],\n",
        "            dropout=params['dropout']\n",
        "        )\n",
        "\n",
        "        criterion = nn.CrossEntropyLoss()\n",
        "        optimizer = optim.Adam(model.parameters(), lr=params['lr'])\n",
        "        train_model(model, criterion, optimizer, deb_train_split, n2v_train_split, y_train_split, deb_val_split, n2v_val_split, y_val_split, params['batch_size'], params['num_epochs'])\n",
        "\n",
        "        score = custom_scorer(model, (deb_val_split, n2v_val_split), y_val_split, params['batch_size'])\n",
        "        if score > best_score:\n",
        "            best_score = score\n",
        "            best_params = params\n",
        "\n",
        "    print(f'Best parameters: {best_params}')\n",
        "    print(f'Best validation accuracy: {best_score:.4f}')\n",
        "\n",
        "    best_model = TextClassificationModel(\n",
        "        hidden_size=best_params['hidden_size'],\n",
        "        num_layers=best_params['num_layers'],\n",
        "        dropout=best_params['dropout']\n",
        "    )\n",
        "    criterion = nn.CrossEntropyLoss()\n",
        "    optimizer = optim.Adam(best_model.parameters(), lr=best_params['lr'])\n",
        "    train_model(best_model, criterion, optimizer, deb_train, n2v_train, y_train, deb_test, n2v_test, y_test, best_params['batch_size'], best_params['num_epochs'])\n",
        "\n",
        "    test_model(best_model, deb_test, n2v_test, y_test, best_params['batch_size'])\n",
        "\n",
        "# Define hyperparameter grid\n",
        "param_grid = {\n",
        "    'hidden_size': [256, 512],\n",
        "    'num_layers': [3, 4],\n",
        "    'dropout': [0.1, 0.2],\n",
        "    'lr': [0.0001, 0.0003],\n",
        "    'num_epochs': [30, 40],\n",
        "    'batch_size': [24]\n",
        "}\n",
        "\n",
        "# Perform grid search\n",
        "model_fit_predict(deb_train, n2v_train, y_train, deb_test, n2v_test, y_test, param_grid)\n"
      ]
    },
    {
      "cell_type": "markdown",
      "metadata": {
        "id": "6Sl0cMfBodFB"
      },
      "source": [
        "* M1 - BiLSTM + Deb - 72% or more\n",
        "* M2 - BiGRU + Deb - 73% or more\n",
        "* M3 - BiLSTM + Deb + N2v - 71% or more\n",
        "* M4 - BiGRU + Deb + N2v - 72% or more\n",
        "\n",
        "Length 64\n",
        "* M1 - BiLSTM + Deb - 74% or more\n",
        "* M2 - BiGRU + Deb - 76% or more\n",
        "* M3 - BiLSTM + Deb + N2v - 68% or more\n",
        "* M4 - BiGRU + Deb + N2v - 70% or more\n",
        "\n",
        "M1:\n",
        "* 40 epochs: 76% ac lr 0.0003 weight_decay=0.0002\n",
        "M3 fara wd si cu batch size 24\n",
        "\n"
      ]
    },
    {
      "cell_type": "code",
      "execution_count": null,
      "metadata": {
        "colab": {
          "base_uri": "https://localhost:8080/",
          "height": 671
        },
        "id": "SK0kUbbBicV_",
        "outputId": "7e1d625d-5089-4ff1-d526-c7b77bac6a05"
      },
      "outputs": [
        {
          "output_type": "stream",
          "name": "stderr",
          "text": [
            "100%|██████████| 40/40 [02:22<00:00,  3.55s/it, Validation Loss:=2.5799, Validation Accuracy:=0.4430]\n"
          ]
        },
        {
          "output_type": "stream",
          "name": "stdout",
          "text": [
            "Accuracy: 0.4430\n",
            "Precision: [0.52830189 0.40298507 0.46280992 0.36842105]\n",
            "Recall: [0.35897436 0.33333333 0.75675676 0.32307692]\n",
            "F1 Score: [0.42748092 0.36486486 0.57435897 0.3442623 ]\n"
          ]
        },
        {
          "output_type": "display_data",
          "data": {
            "text/plain": [
              "<Figure size 800x600 with 2 Axes>"
            ],
            "image/png": "[encoded data removed]"
          },
          "metadata": {}
        }
      ],
      "source": [
        "import torch.nn as nn\n",
        "import torch.optim as optim\n",
        "from torch.optim.lr_scheduler import StepLR\n",
        "num_epochs = 40\n",
        "batch_size = 32\n",
        "\n",
        "# model = TextClassificationModel4()\n",
        "#model =  TextClassificationModel()\n",
        "model =  TextClassificationModel(\n",
        "        hidden_size=512,\n",
        "        num_layers=4,\n",
        "        dropout=0.2\n",
        "    )\n",
        "#model =  TextClassificationModel3()\n",
        "# model =  TextClassificationModel4()\n",
        "model.to(\"cuda\")\n",
        "# Define loss function and optimizer\n",
        "criterion = nn.CrossEntropyLoss()\n",
        "optimizer = optim.Adam(model.parameters(), lr=0.0001)\n",
        "\n",
        "#optimizer = optim.Adam(model.parameters(), lr=0.0003, weight_decay = 0.0002)\n",
        "\n",
        "#scheduler = StepLR(optimizer, step_size=10, gamma=0.3)\n",
        "\n",
        "#for epoch in range(4):\n",
        "#train_model(model, criterion, optimizer, deb_train, n2v_train, y_train, deb_test, n2v_test, y_test, batch_size, num_epochs)\n",
        "train_model(model, criterion, optimizer, glov_train, n2v_train, y_train, glov_test, n2v_test, y_test, 24, 40)\n",
        "    #scheduler.step()  # Update the learning rate\n",
        "    #print(f\"Epoch {epoch+1}/{num_epochs}, Current Learning Rate: {scheduler.get_last_lr()}\")\n",
        "\n",
        "test_model(model, glov_test, n2v_test, y_test, batch_size)\n",
        "# test_model(model, deb_train, n2v_train, y_train, batch_size)"
      ]
    },
    {
      "cell_type": "code",
      "source": [
        "import torch.nn as nn\n",
        "import torch.optim as optim\n",
        "from torch.optim.lr_scheduler import StepLR\n",
        "num_epochs = 40\n",
        "batch_size = 32\n",
        "\n",
        "model =  TextClassificationModel2(\n",
        "        hidden_size=512,\n",
        "        num_layers=4,\n",
        "        dropout=0.2\n",
        "    )\n",
        "\n",
        "model.to(\"cuda\")\n",
        "criterion = nn.CrossEntropyLoss()\n",
        "optimizer = optim.Adam(model.parameters(), lr=0.0001)\n",
        "\n",
        "train_model(model, criterion, optimizer, glov_train, n2v_train, y_train, glov_test, n2v_test, y_test, 24, 40)\n",
        "\n",
        "test_model(model, glov_test, n2v_test, y_test, batch_size)\n"
      ],
      "metadata": {
        "colab": {
          "base_uri": "https://localhost:8080/",
          "height": 671
        },
        "id": "j4lY5sGQjA4d",
        "outputId": "e70c1b72-aab5-4e11-994a-b1c7c64f4bff"
      },
      "execution_count": null,
      "outputs": [
        {
          "output_type": "stream",
          "name": "stderr",
          "text": [
            "100%|██████████| 40/40 [03:12<00:00,  4.81s/it, Validation Loss:=1.4730, Validation Accuracy:=0.6510]\n"
          ]
        },
        {
          "output_type": "stream",
          "name": "stdout",
          "text": [
            "Accuracy: 0.6510\n",
            "Precision: [0.78947368 0.6        0.66666667 0.56666667]\n",
            "Recall: [0.57692308 0.62962963 0.86486486 0.52307692]\n",
            "F1 Score: [0.66666667 0.61445783 0.75294118 0.544     ]\n"
          ]
        },
        {
          "output_type": "display_data",
          "data": {
            "text/plain": [
              "<Figure size 800x600 with 2 Axes>"
            ],
            "image/png": "[encoded data removed]"
          },
          "metadata": {}
        }
      ]
    },
    {
      "cell_type": "code",
      "source": [
        "import torch.nn as nn\n",
        "import torch.optim as optim\n",
        "from torch.optim.lr_scheduler import StepLR\n",
        "num_epochs = 40\n",
        "batch_size = 32\n",
        "\n",
        "model =  TextClassificationModel3(\n",
        "        hidden_size=512,\n",
        "        num_layers=4,\n",
        "        dropout=0.2\n",
        "    )\n",
        "\n",
        "model.to(\"cuda\")\n",
        "criterion = nn.CrossEntropyLoss()\n",
        "optimizer = optim.Adam(model.parameters(), lr=0.0001)\n",
        "\n",
        "train_model(model, criterion, optimizer, glov_train, n2v_train, y_train, glov_test, n2v_test, y_test, 24, 40)\n",
        "\n",
        "test_model(model, glov_test, n2v_test, y_test, batch_size)\n"
      ],
      "metadata": {
        "colab": {
          "base_uri": "https://localhost:8080/",
          "height": 706
        },
        "id": "iwAHLGTDjINS",
        "outputId": "9e9b36bf-01f1-40a0-e116-c98a3f9ada2f"
      },
      "execution_count": null,
      "outputs": [
        {
          "output_type": "stream",
          "name": "stderr",
          "text": [
            "\r  0%|          | 0/40 [00:00<?, ?it/s]/usr/local/lib/python3.10/dist-packages/torch/autograd/graph.py:744: UserWarning: Plan failed with a cudnnException: CUDNN_BACKEND_EXECUTION_PLAN_DESCRIPTOR: cudnnFinalize Descriptor Failed cudnn_status: CUDNN_STATUS_NOT_SUPPORTED (Triggered internally at ../aten/src/ATen/native/cudnn/Conv_v8.cpp:919.)\n",
            "  return Variable._execution_engine.run_backward(  # Calls into the C++ engine to run the backward pass\n",
            "100%|██████████| 40/40 [02:17<00:00,  3.44s/it, Validation Loss:=1.4826, Validation Accuracy:=0.5268]\n"
          ]
        },
        {
          "output_type": "stream",
          "name": "stdout",
          "text": [
            "Accuracy: 0.5268\n",
            "Precision: [0.475      0.61818182 0.6        0.3968254 ]\n",
            "Recall: [0.48717949 0.41975309 0.81081081 0.38461538]\n",
            "F1 Score: [0.48101266 0.5        0.68965517 0.390625  ]\n"
          ]
        },
        {
          "output_type": "display_data",
          "data": {
            "text/plain": [
              "<Figure size 800x600 with 2 Axes>"
            ],
            "image/png": "[encoded data removed]"
          },
          "metadata": {}
        }
      ]
    },
    {
      "cell_type": "code",
      "source": [
        "import torch.nn as nn\n",
        "import torch.optim as optim\n",
        "from torch.optim.lr_scheduler import StepLR\n",
        "num_epochs = 40\n",
        "batch_size = 32\n",
        "\n",
        "model =  TextClassificationModel4(\n",
        "        hidden_size=512,\n",
        "        num_layers=4,\n",
        "        dropout=0.2\n",
        "    )\n",
        "\n",
        "model.to(\"cuda\")\n",
        "criterion = nn.CrossEntropyLoss()\n",
        "optimizer = optim.Adam(model.parameters(), lr=0.0001)\n",
        "\n",
        "train_model(model, criterion, optimizer, glov_train, n2v_train, y_train, glov_test, n2v_test, y_test, 24, 40)\n",
        "\n",
        "test_model(model, glov_test, n2v_test, y_test, batch_size)\n"
      ],
      "metadata": {
        "colab": {
          "base_uri": "https://localhost:8080/",
          "height": 671
        },
        "id": "7PvpgyEejJVg",
        "outputId": "31ec6a33-3770-49a4-f4d3-ed69824e521c"
      },
      "execution_count": null,
      "outputs": [
        {
          "output_type": "stream",
          "name": "stderr",
          "text": [
            "100%|██████████| 40/40 [03:24<00:00,  5.12s/it, Validation Loss:=2.4063, Validation Accuracy:=0.5537]\n"
          ]
        },
        {
          "output_type": "stream",
          "name": "stdout",
          "text": [
            "Accuracy: 0.5537\n",
            "Precision: [0.55813953 0.54098361 0.64634146 0.44927536]\n",
            "Recall: [0.61538462 0.40740741 0.71621622 0.47692308]\n",
            "F1 Score: [0.58536585 0.46478873 0.67948718 0.46268657]\n"
          ]
        },
        {
          "output_type": "display_data",
          "data": {
            "text/plain": [
              "<Figure size 800x600 with 2 Axes>"
            ],
            "image/png": "[encoded data removed]"
          },
          "metadata": {}
        }
      ]
    },
    {
      "cell_type": "code",
      "source": [
        "import torch.nn as nn\n",
        "import torch.optim as optim\n",
        "from torch.optim.lr_scheduler import StepLR\n",
        "num_epochs = 40\n",
        "batch_size = 32\n",
        "\n",
        "model =  TextClassificationModel5(\n",
        "        hidden_size=512,\n",
        "        num_layers=4,\n",
        "        dropout=0.2\n",
        "    )\n",
        "\n",
        "model.to(\"cuda\")\n",
        "criterion = nn.CrossEntropyLoss()\n",
        "optimizer = optim.Adam(model.parameters(), lr=0.0001)\n",
        "\n",
        "train_model(model, criterion, optimizer, glov_train, n2v_train, y_train, glov_test, n2v_test, y_test, 24, 40)\n",
        "\n",
        "test_model(model, glov_test, n2v_test, y_test, batch_size)\n"
      ],
      "metadata": {
        "colab": {
          "base_uri": "https://localhost:8080/",
          "height": 706
        },
        "id": "h7hqY_Y6jKC4",
        "outputId": "9a6c749c-3dc4-4a84-b835-fef6b162f500"
      },
      "execution_count": null,
      "outputs": [
        {
          "output_type": "stream",
          "name": "stderr",
          "text": [
            "\r  0%|          | 0/40 [00:00<?, ?it/s]/usr/local/lib/python3.10/dist-packages/torch/autograd/graph.py:744: UserWarning: Plan failed with a cudnnException: CUDNN_BACKEND_EXECUTION_PLAN_DESCRIPTOR: cudnnFinalize Descriptor Failed cudnn_status: CUDNN_STATUS_NOT_SUPPORTED (Triggered internally at ../aten/src/ATen/native/cudnn/Conv_v8.cpp:919.)\n",
            "  return Variable._execution_engine.run_backward(  # Calls into the C++ engine to run the backward pass\n",
            "100%|██████████| 40/40 [00:43<00:00,  1.08s/it, Validation Loss:=2.1527, Validation Accuracy:=0.5134]\n"
          ]
        },
        {
          "output_type": "stream",
          "name": "stdout",
          "text": [
            "Accuracy: 0.5134\n",
            "Precision: [0.36507937 0.44705882 0.87272727 0.65625   ]\n",
            "Recall: [0.58974359 0.4691358  0.64864865 0.32307692]\n",
            "F1 Score: [0.45098039 0.45783133 0.74418605 0.43298969]\n"
          ]
        },
        {
          "output_type": "display_data",
          "data": {
            "text/plain": [
              "<Figure size 800x600 with 2 Axes>"
            ],
            "image/png": "[encoded data removed]"
          },
          "metadata": {}
        }
      ]
    },
    {
      "cell_type": "code",
      "source": [
        "import torch.nn as nn\n",
        "import torch.optim as optim\n",
        "from torch.optim.lr_scheduler import StepLR\n",
        "num_epochs = 40\n",
        "batch_size = 32\n",
        "\n",
        "model =  TextClassificationModel6(\n",
        "        hidden_size=512,\n",
        "        num_layers=4,\n",
        "        dropout=0.2\n",
        "    )\n",
        "\n",
        "model.to(\"cuda\")\n",
        "criterion = nn.CrossEntropyLoss()\n",
        "optimizer = optim.Adam(model.parameters(), lr=0.0001)\n",
        "\n",
        "train_model(model, criterion, optimizer, glov_train, n2v_train, y_train, glov_test, n2v_test, y_test, 24, 40)\n",
        "\n",
        "test_model(model, glov_test, n2v_test, y_test, batch_size)\n"
      ],
      "metadata": {
        "colab": {
          "base_uri": "https://localhost:8080/",
          "height": 706
        },
        "id": "2chuPo2VjK-v",
        "outputId": "73339bc7-7500-420c-f388-16c6b841df22"
      },
      "execution_count": null,
      "outputs": [
        {
          "output_type": "stream",
          "name": "stderr",
          "text": [
            "\r  0%|          | 0/40 [00:00<?, ?it/s]/usr/local/lib/python3.10/dist-packages/torch/autograd/graph.py:744: UserWarning: Plan failed with a cudnnException: CUDNN_BACKEND_EXECUTION_PLAN_DESCRIPTOR: cudnnFinalize Descriptor Failed cudnn_status: CUDNN_STATUS_NOT_SUPPORTED (Triggered internally at ../aten/src/ATen/native/cudnn/Conv_v8.cpp:919.)\n",
            "  return Variable._execution_engine.run_backward(  # Calls into the C++ engine to run the backward pass\n",
            "100%|██████████| 40/40 [00:42<00:00,  1.06s/it, Validation Loss:=2.3276, Validation Accuracy:=0.4430]\n"
          ]
        },
        {
          "output_type": "stream",
          "name": "stdout",
          "text": [
            "Accuracy: 0.4430\n",
            "Precision: [0.93333333 0.3364486  0.93333333 0.30534351]\n",
            "Recall: [0.17948718 0.44444444 0.56756757 0.61538462]\n",
            "F1 Score: [0.30107527 0.38297872 0.70588235 0.40816327]\n"
          ]
        },
        {
          "output_type": "display_data",
          "data": {
            "text/plain": [
              "<Figure size 800x600 with 2 Axes>"
            ],
            "image/png": "[encoded data removed]"
          },
          "metadata": {}
        }
      ]
    },
    {
      "cell_type": "code",
      "source": [
        "import torch.nn as nn\n",
        "import torch.optim as optim\n",
        "from torch.optim.lr_scheduler import StepLR\n",
        "num_epochs = 40\n",
        "batch_size = 32\n",
        "\n",
        "model =  TextClassificationModel7(\n",
        "        hidden_size=512,\n",
        "        num_layers=4,\n",
        "        dropout=0.2\n",
        "    )\n",
        "\n",
        "model.to(\"cuda\")\n",
        "criterion = nn.CrossEntropyLoss()\n",
        "optimizer = optim.Adam(model.parameters(), lr=0.0001)\n",
        "\n",
        "train_model(model, criterion, optimizer, glov_train, n2v_train, y_train, glov_test, n2v_test, y_test, 24, 40)\n",
        "\n",
        "test_model(model, glov_test, n2v_test, y_test, batch_size)\n"
      ],
      "metadata": {
        "colab": {
          "base_uri": "https://localhost:8080/",
          "height": 706
        },
        "id": "44Meq0EMjLqZ",
        "outputId": "e863c3ab-6ffc-4a2a-8a4f-2b8d4d13858d"
      },
      "execution_count": null,
      "outputs": [
        {
          "output_type": "stream",
          "name": "stderr",
          "text": [
            "\r  0%|          | 0/40 [00:00<?, ?it/s]/usr/local/lib/python3.10/dist-packages/torch/autograd/graph.py:744: UserWarning: Plan failed with a cudnnException: CUDNN_BACKEND_EXECUTION_PLAN_DESCRIPTOR: cudnnFinalize Descriptor Failed cudnn_status: CUDNN_STATUS_NOT_SUPPORTED (Triggered internally at ../aten/src/ATen/native/cudnn/Conv_v8.cpp:919.)\n",
            "  return Variable._execution_engine.run_backward(  # Calls into the C++ engine to run the backward pass\n",
            "100%|██████████| 40/40 [00:57<00:00,  1.43s/it, Validation Loss:=2.0141, Validation Accuracy:=0.4866]\n"
          ]
        },
        {
          "output_type": "stream",
          "name": "stdout",
          "text": [
            "Accuracy: 0.4866\n",
            "Precision: [0.38655462 0.70588235 0.49137931 0.62068966]\n",
            "Recall: [0.58974359 0.2962963  0.77027027 0.27692308]\n",
            "F1 Score: [0.46700508 0.4173913  0.6        0.38297872]\n"
          ]
        },
        {
          "output_type": "display_data",
          "data": {
            "text/plain": [
              "<Figure size 800x600 with 2 Axes>"
            ],
            "image/png": "[encoded data removed]"
          },
          "metadata": {}
        }
      ]
    },
    {
      "cell_type": "code",
      "source": [
        "import torch.nn as nn\n",
        "import torch.optim as optim\n",
        "from torch.optim.lr_scheduler import StepLR\n",
        "num_epochs = 40\n",
        "batch_size = 32\n",
        "\n",
        "model =  TextClassificationModel8(\n",
        "        hidden_size=512,\n",
        "        num_layers=4,\n",
        "        dropout=0.2\n",
        "    )\n",
        "\n",
        "model.to(\"cuda\")\n",
        "criterion = nn.CrossEntropyLoss()\n",
        "optimizer = optim.Adam(model.parameters(), lr=0.0001)\n",
        "\n",
        "train_model(model, criterion, optimizer, glov_train, n2v_train, y_train, glov_test, n2v_test, y_test, 24, 40)\n",
        "\n",
        "test_model(model, glov_test, n2v_test, y_test, batch_size)\n"
      ],
      "metadata": {
        "colab": {
          "base_uri": "https://localhost:8080/",
          "height": 671
        },
        "id": "GK0DwUCEjSkF",
        "outputId": "b4b00444-f82b-4fff-e51e-53de1ea44f12"
      },
      "execution_count": null,
      "outputs": [
        {
          "output_type": "stream",
          "name": "stderr",
          "text": [
            "100%|██████████| 40/40 [01:09<00:00,  1.73s/it, Validation Loss:=2.1616, Validation Accuracy:=0.6107]\n"
          ]
        },
        {
          "output_type": "stream",
          "name": "stdout",
          "text": [
            "Accuracy: 0.6107\n",
            "Precision: [0.6        0.53043478 0.70786517 0.64102564]\n",
            "Recall: [0.42307692 0.75308642 0.85135135 0.38461538]\n",
            "F1 Score: [0.4962406  0.62244898 0.77300613 0.48076923]\n"
          ]
        },
        {
          "output_type": "display_data",
          "data": {
            "text/plain": [
              "<Figure size 800x600 with 2 Axes>"
            ],
            "image/png": "[encoded data removed]"
          },
          "metadata": {}
        }
      ]
    }
  ],
  "metadata": {
    "accelerator": "GPU",
    "colab": {
      "gpuType": "L4",
      "machine_shape": "hm",
      "provenance": []
    },
    "kernelspec": {
      "display_name": "Python 3",
      "name": "python3"
    },
    "language_info": {
      "name": "python"
    }
  },
  "nbformat": 4,
  "nbformat_minor": 0
}